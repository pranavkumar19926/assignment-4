{
 "cells": [
  {
   "cell_type": "code",
   "execution_count": 1,
   "id": "145129c6-e5d1-4a28-a2e1-e051f55692ed",
   "metadata": {},
   "outputs": [
    {
     "name": "stdout",
     "output_type": "stream",
     "text": [
      "Given array is : \n",
      " [[10 20 30]\n",
      " [40 50 60]\n",
      " [70 80 90]]\n",
      "\n",
      "\n",
      "The element in 1st row, 2nd column is : 20\n",
      "\n",
      "\n",
      "The element in 3rd row, 1st column is : 70\n",
      "\n",
      "\n"
     ]
    }
   ],
   "source": [
    "# Q.3 For the given 2-D array arr=np.array([10, 20, 30], [40, 50, 60], [70, 80, 90]), access\n",
    "# elements using row and column indices as follows:\n",
    "\n",
    "import numpy as np\n",
    "arr=np.array([[10, 20, 30], [40, 50, 60], [70, 80, 90]])\n",
    "print(f\"Given array is : \\n {arr}\")\n",
    "print('\\n')\n",
    "# a) Access 1st row, 2nd column\n",
    "\n",
    "print(f'The element in 1st row, 2nd column is : {arr[0][1]}')\n",
    "print('\\n')\n",
    "\n",
    "# b) Access 3rd row, 1st column\n",
    "\n",
    "print(f'The element in 3rd row, 1st column is : {arr[2][0]}')\n",
    "print('\\n')"
   ]
  },
  {
   "cell_type": "code",
   "execution_count": 3,
   "id": "c01d94f9-6971-4942-b057-e711da79b485",
   "metadata": {},
   "outputs": [
    {
     "name": "stdout",
     "output_type": "stream",
     "text": [
      "Given Array : [1 2 3 6 4 5]\n",
      "Reverse of the array is : [5 4 6 3 2 1]\n",
      "\n",
      "\n"
     ]
    }
   ],
   "source": [
    "# Q.2 Questions on Basic NumPy Array:\n",
    "# a) Reverse the NumPy array: arr = np.array([1, 2, 3, 6, 4, 5])\n",
    "\n",
    "import numpy as np\n",
    "arr = np.array([1, 2, 3, 6, 4, 5])\n",
    "print(f\"Given Array : {arr}\")\n",
    "arr=arr[::-1]\n",
    "print(f\"Reverse of the array is : {arr}\")\n",
    "print(\"\\n\")\n",
    "\n"
   ]
  },
  {
   "cell_type": "code",
   "execution_count": 5,
   "id": "ed307863-bbcb-45c9-8fdb-0861eba420df",
   "metadata": {},
   "outputs": [
    {
     "name": "stdout",
     "output_type": "stream",
     "text": [
      "Given Array : [1 2 3 4 5 1 2 1 1 1]\n",
      "The most frequent value is : 1\n",
      "It occurs at indices [0 5 7 8 9]\n",
      "\n",
      "\n"
     ]
    }
   ],
   "source": [
    "\n",
    "# b) Find the most frequent value and their indice(s) in the following arrays:\n",
    "# i. x = np.array([1,2,3,4,5,1,2,1,1,1])\n",
    "\n",
    "x = np.array([1,2,3,4,5,1,2,1,1,1])\n",
    "print(f\"Given Array : {x}\")\n",
    "unique_el,count=np.unique(x, return_counts=True)\n",
    "print(f\"The most frequent value is : {unique_el[np.argmax(count)]}\")\n",
    "indices= np.where(x==unique_el[np.argmax(count)])[0]\n",
    "print(f\"It occurs at indices {indices}\")\n",
    "print(\"\\n\")\n"
   ]
  },
  {
   "cell_type": "code",
   "execution_count": 7,
   "id": "9da09dad-ad62-4cd2-ac62-56679a10adca",
   "metadata": {},
   "outputs": [
    {
     "name": "stdout",
     "output_type": "stream",
     "text": [
      "Given Array : [1 1 1 2 3 4 2 4 3 3]\n",
      "The most frequent value is : 1\n",
      "It occurs at indices [0 1 2]\n"
     ]
    }
   ],
   "source": [
    "\n",
    "\n",
    "# ii. y = np.array([1, 1, 1, 2, 3, 4, 2, 4, 3, 3, ])\n",
    "\n",
    "y = np.array([1, 1, 1, 2, 3, 4, 2, 4, 3, 3, ])\n",
    "print(f\"Given Array : {y}\")\n",
    "unique_el,count=np.unique(y, return_counts=True)\n",
    "print(f\"The most frequent value is : {unique_el[np.argmax(count)]}\")\n",
    "indices= np.where(y==unique_el[np.argmax(count)])[0]\n",
    "print(f\"It occurs at indices {indices}\")\n",
    "\n"
   ]
  },
  {
   "cell_type": "code",
   "execution_count": 9,
   "id": "2809eba5-a0d8-4ae7-9d8a-2d3aee4d9962",
   "metadata": {},
   "outputs": [
    {
     "name": "stdout",
     "output_type": "stream",
     "text": [
      "Original Array:\n",
      "[1 2 3 4 5]\n",
      "\n",
      "\n",
      "\n"
     ]
    }
   ],
   "source": [
    "#  Q.1 Write a program to create a NumPy 1D-array with 5 elements and perform basic\n",
    "# operations like:\n",
    "\n",
    "import numpy as np\n",
    "\n",
    "a=np.array([1,2,3,4,5])\n",
    "print(\"Original Array:\")\n",
    "print(a)\n",
    "print('\\n\\n')\n",
    "\n"
   ]
  },
  {
   "cell_type": "code",
   "execution_count": 11,
   "id": "70d781d1-5403-4cc2-a80a-333dce4fa26a",
   "metadata": {},
   "outputs": [
    {
     "name": "stdout",
     "output_type": "stream",
     "text": [
      "Array after adding 2 to all elements:\n",
      "[3 4 5 6 7]\n",
      "\n",
      "\n",
      "\n"
     ]
    }
   ],
   "source": [
    "# a) Addition of 2 in all the element\n",
    "\n",
    "print(\"Array after adding 2 to all elements:\")\n",
    "a=a+2\n",
    "print(a)\n",
    "print('\\n\\n')\n",
    "\n"
   ]
  },
  {
   "cell_type": "code",
   "execution_count": 13,
   "id": "963a0c69-ddff-4716-a6a8-128ab13a2a33",
   "metadata": {},
   "outputs": [
    {
     "name": "stdout",
     "output_type": "stream",
     "text": [
      "Array after multiplying all elements by 3:\n",
      "[ 9 12 15 18 21]\n",
      "\n",
      "\n",
      "\n"
     ]
    }
   ],
   "source": [
    "\n",
    "# b) Multiply 3 with all the elements\n",
    "\n",
    "print(\"Array after multiplying all elements by 3:\")\n",
    "a=a*3\n",
    "print(a)\n",
    "print('\\n\\n')\n"
   ]
  },
  {
   "cell_type": "code",
   "execution_count": 15,
   "id": "672cb375-9a73-43bf-8317-c43b9db2feb9",
   "metadata": {},
   "outputs": [
    {
     "name": "stdout",
     "output_type": "stream",
     "text": [
      "Array after dividing all elements by 2:\n",
      "[ 4.5  6.   7.5  9.  10.5]\n"
     ]
    }
   ],
   "source": [
    "\n",
    "# c) Divide every element by 2\n",
    "\n",
    "print(\"Array after dividing all elements by 2:\")\n",
    "a=a/2\n",
    "print(a)"
   ]
  },
  {
   "cell_type": "code",
   "execution_count": 17,
   "id": "78055d50-9f77-41ba-98a8-a019c13e760a",
   "metadata": {},
   "outputs": [
    {
     "name": "stdout",
     "output_type": "stream",
     "text": [
      "Array formed is : \n",
      " [ 10.    13.75  17.5   21.25  25.    28.75  32.5   36.25  40.    43.75\n",
      "  47.5   51.25  55.    58.75  62.5   66.25  70.    73.75  77.5   81.25\n",
      "  85.    88.75  92.5   96.25 100.  ]\n",
      "\n",
      "\n"
     ]
    }
   ],
   "source": [
    "# Q.4 Write program to create an 1-D NumPy array named <<Your Name>> with evenly\n",
    "# spaced 25 numbers from 10 to 100 using linspace(). \n",
    "\n",
    "import numpy as np\n",
    "\n",
    "Your_Name=np.linspace(10,100,25)\n",
    "print(f\"Array formed is : \\n {Your_Name}\")\n",
    "print('\\n')\n"
   ]
  },
  {
   "cell_type": "code",
   "execution_count": 19,
   "id": "e042b04b-e778-4a23-9d63-539c121dd637",
   "metadata": {},
   "outputs": [
    {
     "name": "stdout",
     "output_type": "stream",
     "text": [
      "Dimentions of the array is : 1\n",
      "\n",
      "\n",
      "Shape of the array is : (25,)\n",
      "\n",
      "\n",
      "Size of the array is : 25\n",
      "\n",
      "\n",
      "Datatype of each element of the array is : float64\n",
      "\n",
      "\n",
      "Total number of bytes consumed by the array is : 200\n",
      "\n",
      "\n"
     ]
    }
   ],
   "source": [
    "\n",
    "# Print the dimensions of the array,shape, total elements, the data type of each element \n",
    "# and total number of bytes consumed by the array. \n",
    "\n",
    "print(f\"Dimentions of the array is : {Your_Name.ndim}\")\n",
    "print('\\n')\n",
    "\n",
    "print(f\"Shape of the array is : {Your_Name.shape}\")\n",
    "print('\\n')\n",
    "\n",
    "print(f\"Size of the array is : {Your_Name.size}\")\n",
    "print('\\n')\n",
    "\n",
    "print(f\"Datatype of each element of the array is : {Your_Name.dtype}\")\n",
    "print('\\n')\n",
    "\n",
    "print(f\"Total number of bytes consumed by the array is : {Your_Name.nbytes}\")\n",
    "print('\\n')\n"
   ]
  },
  {
   "cell_type": "code",
   "execution_count": 21,
   "id": "19613923-4a6a-4b64-9c83-89a4ece8c5ac",
   "metadata": {},
   "outputs": [
    {
     "name": "stdout",
     "output_type": "stream",
     "text": [
      "transpose of the array is : [[ 10.  ]\n",
      " [ 13.75]\n",
      " [ 17.5 ]\n",
      " [ 21.25]\n",
      " [ 25.  ]\n",
      " [ 28.75]\n",
      " [ 32.5 ]\n",
      " [ 36.25]\n",
      " [ 40.  ]\n",
      " [ 43.75]\n",
      " [ 47.5 ]\n",
      " [ 51.25]\n",
      " [ 55.  ]\n",
      " [ 58.75]\n",
      " [ 62.5 ]\n",
      " [ 66.25]\n",
      " [ 70.  ]\n",
      " [ 73.75]\n",
      " [ 77.5 ]\n",
      " [ 81.25]\n",
      " [ 85.  ]\n",
      " [ 88.75]\n",
      " [ 92.5 ]\n",
      " [ 96.25]\n",
      " [100.  ]]\n",
      "\n",
      "\n"
     ]
    }
   ],
   "source": [
    "\n",
    "# Find the transpose of this array using reshape() attribute. \n",
    "\n",
    "Your_Name_reshaped=Your_Name.reshape(25,1)\n",
    "print(f\"transpose of the array is : {Your_Name_reshaped}\")\n",
    "print('\\n')\n"
   ]
  },
  {
   "cell_type": "code",
   "execution_count": 23,
   "id": "64fd5eea-6a56-4190-9cd4-281cab8ba2bd",
   "metadata": {},
   "outputs": [
    {
     "name": "stdout",
     "output_type": "stream",
     "text": [
      "transpose of the array is : [[ 10.    13.75  17.5   21.25  25.    28.75  32.5   36.25  40.    43.75\n",
      "   47.5   51.25  55.    58.75  62.5   66.25  70.    73.75  77.5   81.25\n",
      "   85.    88.75  92.5   96.25 100.  ]]\n",
      "\n",
      "\n"
     ]
    }
   ],
   "source": [
    "\n",
    "# Can we do the same with T attribute?\n",
    "\n",
    "print(f\"transpose of the array is : {Your_Name_reshaped.T}\")\n",
    "print('\\n')\n"
   ]
  },
  {
   "cell_type": "code",
   "execution_count": 25,
   "id": "f193fcdc-9e26-4d76-aeb2-f6a74d3d6928",
   "metadata": {},
   "outputs": [
    {
     "name": "stdout",
     "output_type": "stream",
     "text": [
      "Original 2D Array (ucs420_yourname):\n",
      "[[10 20 30 40]\n",
      " [50 60 70 80]\n",
      " [90 15 20 35]]\n",
      "\n"
     ]
    }
   ],
   "source": [
    "# Q5. Create a 2-D Array of three rows and four columns, named ucs420_<your_name>>\n",
    "# with following values – 10, 20, 30, 40, 50, 60, 70, 80, 90, 15, 20, 35. \n",
    "\n",
    "import numpy as np\n",
    "\n",
    "ucs420_yourname = np.array([\n",
    "    [10, 20, 30, 40], \n",
    "    [50, 60, 70, 80], \n",
    "    [90, 15, 20, 35]\n",
    "])\n",
    "print(f\"Original 2D Array (ucs420_yourname):\\n{ucs420_yourname}\\n\")\n"
   ]
  },
  {
   "cell_type": "code",
   "execution_count": 27,
   "id": "8242bcfd-9d47-4325-b59e-944ec55650e7",
   "metadata": {},
   "outputs": [
    {
     "name": "stdout",
     "output_type": "stream",
     "text": [
      "Mean of array: 43.333333333333336\n",
      "\n",
      "Median of array: 37.5\n",
      "\n",
      "Maximum value: 90\n",
      "\n",
      "Minimum value: 10\n",
      "\n",
      "Unique elements in the array: [10 15 20 30 35 40 50 60 70 80 90]\n",
      "\n"
     ]
    }
   ],
   "source": [
    "\n",
    "# Compute the mean,median, max, min, unique elements. \n",
    "\n",
    "print(f\"Mean of array: {np.mean(ucs420_yourname)}\\n\")\n",
    "print(f\"Median of array: {np.median(ucs420_yourname)}\\n\")\n",
    "print(f\"Maximum value: {np.max(ucs420_yourname)}\\n\")\n",
    "print(f\"Minimum value: {np.min(ucs420_yourname)}\\n\")\n",
    "print(f\"Unique elements in the array: {np.unique(ucs420_yourname)}\\n\")\n"
   ]
  },
  {
   "cell_type": "code",
   "execution_count": 29,
   "id": "e5313e49-cb2c-4856-b6ac-eee3ff37c57c",
   "metadata": {},
   "outputs": [
    {
     "name": "stdout",
     "output_type": "stream",
     "text": [
      "Reshaped Array (4x3):\n",
      "[[10 20 30]\n",
      " [40 50 60]\n",
      " [70 80 90]\n",
      " [15 20 35]]\n",
      "\n"
     ]
    }
   ],
   "source": [
    "\n",
    "# Reshape the array to four rows and three columns and name it as reshaped_ ucs420_<your_name>>. \n",
    "\n",
    "reshaped_ucs420_yourname = ucs420_yourname.reshape(4, 3)\n",
    "print(f\"Reshaped Array (4x3):\\n{reshaped_ucs420_yourname}\\n\")\n"
   ]
  },
  {
   "cell_type": "code",
   "execution_count": 31,
   "id": "14ebc6cc-aced-45a7-b7cb-5d37da01f670",
   "metadata": {},
   "outputs": [
    {
     "name": "stdout",
     "output_type": "stream",
     "text": [
      "Resized Array (2x3):\n",
      "[[10 20 30]\n",
      " [40 50 60]]\n",
      "\n"
     ]
    }
   ],
   "source": [
    "\n",
    "# Resize the array to two rows and three columns and name it as resized_ ucs420_<your_name>>.\n",
    "\n",
    "resized_ucs420_yourname = np.resize(ucs420_yourname, (2, 3))\n",
    "print(f\"Resized Array (2x3):\\n{resized_ucs420_yourname}\\n\")"
   ]
  },
  {
   "cell_type": "code",
   "execution_count": null,
   "id": "09649dc0-ae87-4ce0-9619-6150e0360219",
   "metadata": {},
   "outputs": [],
   "source": []
  }
 ],
 "metadata": {
  "kernelspec": {
   "display_name": "Python [conda env:base] *",
   "language": "python",
   "name": "conda-base-py"
  },
  "language_info": {
   "codemirror_mode": {
    "name": "ipython",
    "version": 3
   },
   "file_extension": ".py",
   "mimetype": "text/x-python",
   "name": "python",
   "nbconvert_exporter": "python",
   "pygments_lexer": "ipython3",
   "version": "3.11.7"
  }
 },
 "nbformat": 4,
 "nbformat_minor": 5
}
